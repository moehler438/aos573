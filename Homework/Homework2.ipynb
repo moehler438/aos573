{
 "cells": [
  {
   "cell_type": "markdown",
   "metadata": {},
   "source": [
    "<b><font size=20, color='#A020F0'>Homework 2</font></b>"
   ]
  },
  {
   "cell_type": "markdown",
   "metadata": {},
   "source": [
    "#### In this homework you'll further explore scipy and pandas. For the pandas problems you'll be working with oceanographic research cruise data from the Arctic\n",
    "\n",
    "<b><font color='red'>Due Date: 9 October 2024</font></b><br>(by the beginning of class)\n",
    "\n",
    "<b>How you will turn in this assignment</b><br> When you are ready to turn in your homework, do the following steps:\n",
    "1. Execute all cells in your notebook so that the results are visible, and save one more time. It is ok if you have code that you practiced with, but <b><u>make sure your final answers to each question are clearly marked so that your TA and I know what to grade</u></b>. (You can also collapse the code and outputs that you _don't_ want us to grade; options to collapse and expand code are in the 'View' menu in the upper left)\n",
    "2. Open a terminal and navigate to your local `aos573_completed_assignments` repository and make a new directory called `completed_HW2`\n",
    "3. Move or copy your completed jupyter notebook into this directory\n",
    "4. `add` and `commit` the `completed_HW2` directory and its contents to your local `aos573_completed_assignments` repository\n",
    "5. Finally, `push` your changes to your remote `aos573_completed_assignments` repository: `git push finished_work main` (you'll need to enter your username and personal access token)\n",
    "6. <b><font color='red'>REMINDER: DO NOT TRACK OR PUSH THE DATA USED IN THE NOTEBOOK</font></b>"
   ]
  },
  {
   "cell_type": "markdown",
   "metadata": {},
   "source": [
    "---"
   ]
  },
  {
   "cell_type": "markdown",
   "metadata": {},
   "source": [
    "# Part 1: Working with Scipy"
   ]
  },
  {
   "cell_type": "markdown",
   "metadata": {},
   "source": [
    "### Q1.1 Numerically integrating the Lorenz Equations\n",
    "\n",
    "The [Lorenz Equations](https://en.wikipedia.org/wiki/Lorenz_system) were developed by [Ed Lorenz](https://en.wikipedia.org/wiki/Edward_Norton_Lorenz) in the 1960s. They describe the chaotic motion of the atmosphere in very simplified terms (you can access his actual paper [here](https://journals.ametsoc.org/view/journals/atsc/20/2/1520-0469_1963_020_0130_dnf_2_0_co_2.xml)). The equations are as follows:\n",
    "\n",
    "<center>\n",
    "$\\dot x=\\sigma(y-x)$<br>\n",
    "$\\dot y=rx-y-xz$<br>\n",
    "$\\dot z=xy-bz$<br>\n",
    "</center><br>\n",
    "\n",
    "Where $\\sigma$, $r$, and $b$ are tunable parameters ($\\sigma$ is the Prandtl number and $r$ is the Rayleigh number if you want to know).\n",
    "\n",
    "The goal of this problem is to use Scipy's 4th/5th order Runge-Kutta algorithm via [solve_ivp()](https://docs.scipy.org/doc/scipy/reference/generated/scipy.integrate.solve_ivp.html) to solve the above system of equations (for now with $\\sigma$, $r$, and $b$=1) and the following initial conditions:\n",
    "\n",
    "<center>\n",
    "$x(t=0)=0$<br>\n",
    "$y(t=0)=1$<br>\n",
    "$z(t=0)=0$<br>\n",
    "</center><br>\n",
    "\n",
    "You'll work through it in several steps below!"
   ]
  },
  {
   "cell_type": "markdown",
   "metadata": {},
   "source": [
    "#### Q1.1.1 Define a function\n",
    "Create a function that takes the following as arguments and _returns_ the values for $\\dot x$, $\\dot y$, $\\dot z$ at a particular timestep:\n",
    "1. A time interval of the form `[time1, time2]`\n",
    "2. A 1D array of the three values for the initial conditions `[x(0),y(0),z(0)]`\n",
    "3. Values for $\\sigma$, $r$, and $b$ (the default can be 1 for now)\n",
    "\n",
    "This might sound confusing, but all I am asking you to do is take the above equations and put them inside a function. Within your function you will need to make sure that x, y, and z are set to the initial conditions that you provide as arguments to the function. Your function body (excluding the return statement) should thus have something like 4 lines: 1 line for setting the initial conditions and another 3 for calculating $\\dot x$, $\\dot y$, $\\dot z$. "
   ]
  },
  {
   "cell_type": "code",
   "execution_count": 49,
   "metadata": {},
   "outputs": [],
   "source": [
    "import scipy as sp\n",
    "import numpy as np\n",
    "import pandas as pd\n",
    "import matplotlib.pyplot as plt"
   ]
  },
  {
   "cell_type": "code",
   "execution_count": 48,
   "metadata": {},
   "outputs": [],
   "source": [
    "def lorenz_diff(tval, init_cond, sigma = 1, r = 1, b = 1):\n",
    "    x0, y0, z0 = init_cond\n",
    "    dxdt = sigma*(y0 - x0)\n",
    "    dydt = r*x0 - y0-z0 \n",
    "    dzdt = x0*y0 - b*z0\n",
    "    return [dxdt, dydt, dzdt]"
   ]
  },
  {
   "cell_type": "markdown",
   "metadata": {},
   "source": [
    "#### Q1.1.2 Solve your set of equations\n",
    "Use [solve_ivp()](https://docs.scipy.org/doc/scipy/reference/generated/scipy.integrate.solve_ivp.html) to solve the equations. As arguments to solve_ivp, you'll need to provide the function you created, the inputs (arguments) to your function, the integration method (Runge Kutta 4/5), and the timesteps (the evaluation period). Use 10000 timesteps over the time interval `[0,100]` to create your timesteps. <b>Please read the solve_ivp documentation carefully!</b>"
   ]
  },
  {
   "cell_type": "code",
   "execution_count": 50,
   "metadata": {},
   "outputs": [],
   "source": [
    "from scipy.integrate import solve_ivp\n",
    "from mpl_toolkits.mplot3d import Axes3D"
   ]
  },
  {
   "cell_type": "code",
   "execution_count": 51,
   "metadata": {},
   "outputs": [
    {
     "data": {
      "text/plain": [
       "  message: The solver successfully reached the end of the integration interval.\n",
       "  success: True\n",
       "   status: 0\n",
       "        t: [ 0.000e+00  1.000e-02 ...  9.999e+01  1.000e+02]\n",
       "        y: [[ 0.000e+00  9.902e-03 ...  1.822e-02  1.822e-02]\n",
       "            [ 1.000e+00  9.901e-01 ...  1.805e-02  1.805e-02]\n",
       "            [ 0.000e+00  4.919e-05 ...  3.351e-04  3.351e-04]]\n",
       "      sol: None\n",
       " t_events: None\n",
       " y_events: None\n",
       "     nfev: 416\n",
       "     njev: 0\n",
       "      nlu: 0"
      ]
     },
     "execution_count": 51,
     "metadata": {},
     "output_type": "execute_result"
    }
   ],
   "source": [
    "lorenz = solve_ivp(lorenz_diff, t_span = [0, 100], y0 = [0, 1, 0], t_eval = np.linspace(0, 100, 10000))\n",
    "lorenz"
   ]
  },
  {
   "cell_type": "markdown",
   "metadata": {},
   "source": [
    "#### Q1.1.3 Plot your results but with new parameters\n",
    "Now that you have a working solver, change the values of $\\sigma$, $r$, and $b$ so that your solutions give you the classic Lorenz Attractor. Make a plot of your solutions (specifically the solution for $x(t)$ vs the solution for $z(t)$). Give your plot a title and x and y axis labels."
   ]
  },
  {
   "cell_type": "code",
   "execution_count": 74,
   "metadata": {},
   "outputs": [
    {
     "data": {
      "text/plain": [
       "  message: The solver successfully reached the end of the integration interval.\n",
       "  success: True\n",
       "   status: 0\n",
       "        t: [ 0.000e+00  1.000e-02 ...  9.999e+01  1.000e+02]\n",
       "        y: [[ 0.000e+00  9.948e-03 ...  7.439e+02  7.440e+02]\n",
       "            [ 1.000e+00  1.004e+00 ...  7.537e+02  7.536e+02]\n",
       "            [ 0.000e+00  4.937e-05 ...  2.075e+05  2.076e+05]]\n",
       "      sol: None\n",
       " t_events: None\n",
       " y_events: None\n",
       "     nfev: 6308\n",
       "     njev: 0\n",
       "      nlu: 0"
      ]
     },
     "execution_count": 74,
     "metadata": {},
     "output_type": "execute_result"
    }
   ],
   "source": [
    "lorenz2 = solve_ivp(lorenz_diff, t_span = [0, 100], y0 = [0, 1, 0], method = 'RK45', t_eval = np.linspace(0, 100, 10000), args = (1, 280, 8/3))\n",
    "lorenz2"
   ]
  },
  {
   "cell_type": "code",
   "execution_count": 75,
   "metadata": {},
   "outputs": [
    {
     "data": {
      "text/plain": [
       "[<matplotlib.lines.Line2D at 0x7f839065c190>]"
      ]
     },
     "execution_count": 75,
     "metadata": {},
     "output_type": "execute_result"
    },
    {
     "data": {
      "image/png": "[encoded data removed]",
      "text/plain": [
       "<Figure size 640x480 with 1 Axes>"
      ]
     },
     "metadata": {},
     "output_type": "display_data"
    }
   ],
   "source": [
    "# fig = plt.figure()\n",
    "# ax = fig.add_subplot( projection = '3d')\n",
    "# # ax.plot(*list(lorenz.y))\n",
    "# ax.plot(lorenz.y[0, :],\n",
    "#         lorenz.y[1, :],\n",
    "#         lorenz.y[2, :],)\n",
    "# plt.show()\n",
    "plt.plot(lorenz2.y[0], lorenz2.y[2])"
   ]
  },
  {
   "cell_type": "markdown",
   "metadata": {},
   "source": [
    "I'm not quite able to get the correct shape"
   ]
  },
  {
   "cell_type": "markdown",
   "metadata": {},
   "source": [
    "### Q1.2 Making an fft of an audio recording of your voice\n",
    "\n",
    "1. Use this [voice recording website](https://virtualspeech.com/tools/voice-recorder) to make a recording of yourself reading the following passage from _To Kill a Mockingbird_. Do your best to read the passage aloud at your normal conversation volume and pace (don't worry too much about this part though).\n",
    "<blockquote>“Atticus said to Jem one day, “I’d rather you shot at tin cans in the backyard, but I know you’ll go after birds. Shoot all the blue jays you want, if you can hit ‘em, but remember it’s a sin to kill a mockingbird.” That was the only time I ever heard Atticus say it was a sin to do something, and I asked Miss Maudie about it. “Your father’s right,” she said. “Mockingbirds don’t do one thing except make music for us to enjoy. They don’t eat up people’s gardens, don’t nest in corn cribs, they don’t do one thing but sing their hearts out for us. That’s why it’s a sin to kill a mockingbird.”</blockquote> \n",
    "\n",
    "2. When you are done recording, choose the `download (M4A)` option, and then use [this audio coverter](https://virtualspeech.com/tools/audio-converter) to convert your recording to a `.wav` file. Once you have converted it, upload it to the class jupyterhub so you can load it in your notebook (<font color='red'>you do not need to turn in your .wav file when you turn in your homework!</font>) \n",
    "3. Read in your `.wav` file using [scipy.io.wavfile.read](https://docs.scipy.org/doc/scipy/reference/generated/scipy.io.wavfile.read.html) (make sure you read what the outputs of this are!) and look at your data (i.e, what is in your wavfile that you read in? What are the dimensions of the different pieces of data and what do they represent?) I don't need you to write the answers to these questions in your notebook, but they are there to help you understand what it is from the file that you need to use for the next step.\n",
    "4. Compute the fft of your voice recording using scipy.fft.fft\n",
    "5. Plot your results, <b>save them as a `.png` file with your last name in the file name</b>, and drop them in this [google drive folder](https://drive.google.com/drive/folders/1etyRjifV0sZDKTLFzsf7XaJlGlOW4FbW?usp=sharing) so we can compare them! <u>You must turn in your final plot in the google drive to get full points for this question.</u>\n",
    "\n",
    "<b><font color='red'>For steps 3-5 please make sure you add comments to your code!</font></b>\n",
    "\n",
    "In order to make our plots comparable, please ensure that your plot adheres to the following parameters:\n",
    "1. Make sure the figure size is 12x4\n",
    "2. Set your plot xlim to go from 0 to 1000\n",
    "3. Scale your amplitudes by the maximum amplitude in your fft (just divide by the maximum value so that your y-values span [0,1])\n",
    "4. Add a title (it should say something like 'fft of [your name]'s voice recording')\n",
    "5. Add x and y axis labels (the x-axis unit is Hz)\n",
    "6. Set the default linewidth to be 0.5 and change the line color (you can pick whatever color you want)\n",
    "7. Add text on your plot that denotes the frequencies of the two largest peaks (the text should simply state the frequency of the peak and appear next to the peak\n",
    "><b><font color='green'>Hint</font></b>: take a look at [argmax](https://numpy.org/doc/stable/reference/generated/numpy.argmax.html) and [annotate](https://matplotlib.org/stable/api/_as_gen/matplotlib.pyplot.annotate.html)\n",
    "\n",
    "Here is an example of what the end result should look like using a recording of my and Ángel's voices (your plot will, of course, only have one panel containing the fft of your voice):\n",
    "\n",
    "<img src='Images/HA_voice_ffts.png'></img>"
   ]
  },
  {
   "cell_type": "code",
   "execution_count": 8,
   "metadata": {},
   "outputs": [],
   "source": [
    "import scipy.io\n",
    "from scipy.io import wavfile\n",
    "from matplotlib.pyplot import figure\n",
    "from scipy import stats,signal,interpolate,integrate,linalg,fft\n",
    "from scipy.signal import find_peaks"
   ]
  },
  {
   "cell_type": "code",
   "execution_count": 9,
   "metadata": {},
   "outputs": [
    {
     "data": {
      "image/png": "[encoded data removed]",
      "text/plain": [
       "<Figure size 1200x400 with 1 Axes>"
      ]
     },
     "metadata": {},
     "output_type": "display_data"
    }
   ],
   "source": [
    "#Read wav file\n",
    "samplerate, data = sp.io.wavfile.read('mattsvoice.wav')\n",
    "\n",
    "#Apply fft\n",
    "matt_fft = scipy.fft.fft(data)\n",
    "\n",
    "#Calculate frequencies\n",
    "frequencies = scipy.fft.fftfreq(len(matt_fft), 1/samplerate)\n",
    "freq = frequencies[(frequencies>=0) * (frequencies<1000)]\n",
    "\n",
    "#plot\n",
    "plt.figure(figsize = (12,4))\n",
    "matt_amp = np.abs(matt_fft)/(4*10**12)\n",
    "plt.plot(frequencies, matt_amp, linewidth = 0.5, c = 'goldenrod')\n",
    "plt.xlim(0,1000)\n",
    "plt.ylim(0)\n",
    "plt.xlabel('Frequency (Hz)')\n",
    "plt.ylabel('Amplitude')\n",
    "plt.title(\"FFT of Matt's Voice Recording\")\n",
    "\n",
    "#Find peaks\n",
    "peaks, _ = find_peaks(matt_amp)\n",
    "peaks = peaks[np.argsort(matt_amp[peaks])][::-1]\n",
    "top_two_peaks = peaks[1:3]\n",
    "plt.plot(frequencies[top_two_peaks], matt_amp[top_two_peaks],'x')\n",
    "for i, peak in enumerate(top_two_peaks):\n",
    "    plt.text(frequencies[peak], matt_amp[peak], f'{frequencies[peak]:.2f}' 'Hz')\n",
    "\n",
    "plt.savefig('Oehler_fft.png')\n",
    "plt.show()"
   ]
  },
  {
   "cell_type": "markdown",
   "metadata": {},
   "source": [
    "### Q1.3 Troubleshooting Errors\n",
    "Imagine a friend of yours has been tasked with writing some code to compute a [Pearson correlation coefficient](https://en.wikipedia.org/wiki/Pearson_correlation_coefficient) for two variables that are generated by the following code:"
   ]
  },
  {
   "cell_type": "code",
   "execution_count": 10,
   "metadata": {},
   "outputs": [],
   "source": [
    "#Code for generating the variables\n",
    "x=np.linspace(-1,1,100) #create 100 values on the interval [-1,1]\n",
    "#parabola for variable y1\n",
    "y1=x**2\n",
    "#quartic + noise for variable y1\n",
    "y2=x**4+np.random.randn(100) #random.randn adds random noise\n",
    "##!!!NOTE: the values for y2 will not stay the same if you run this block again and that's ok!"
   ]
  },
  {
   "cell_type": "markdown",
   "metadata": {},
   "source": [
    "Your friend has written some additional code below to compute the Pearson correlation coefficient $r_{xy}$ for two variables $x$ and $y$ as defined by his textbook:<br>\n",
    "<center>$\\large r_{xy}={\\frac {\\sum _{i=1}^{n}(x_{i}-{\\bar {x}})(y_{i}-{\\bar {y}})}{{\\sqrt {\\sum _{i=1}^{n}(x_{i}-{\\bar {x}})^{2}}}{\\sqrt {\\sum _{i=1}^{n}(y_{i}-{\\bar {y}})^{2}}}}}$</center><br>\n",
    "\n",
    "where $\\bar{x}$ and $\\bar{y}$ are the means of the respective variables and $x_{i}$ and $y_{i}$ are individual values. \n",
    "\n",
    "He tells you that his code is not working and he isn't sure how to fix it. Being the awesome friend you are, you take a look at his code and correct several syntax and other general computational errors that he missed. \n",
    "\n",
    "<b>For this problem you need to do the following:</b>\n",
    "1. List each of the errors that you find in your friend's code below. It will help to run the code below and to try using the function to compute the correlation between y1 and y2. \n",
    "2. Correct the errors and show that the defined function actually works the way you'd expect by testing it on y1 and y2 above and comparing the result to that of `scipy.stats.pearsonr`\n",
    "> <b>Note:</b> In the code below the result is rounded to 2 decimal places, so that's all the accuracy I am looking for in the correlation coefficient comparison\n",
    "3. Using only numpy and/or scipy, re-write the corrected code in 3 lines. <b>This means you should be able to condense the entire code in the body of the function into one line. </b>Make sure that your final code provides the correct result by comparing it to `scipy.stats.pearsonr` as in 2). You can use whatever built-in numpy and scipy functions that you want, <font color='red'><b>as long as you do not use scipy.stats.pearsonr :)</b></font>. To get full points for this problem, the above code should be condensed in a meaningful way--that means it should be more straightforward than what is provided below!"
   ]
  },
  {
   "cell_type": "code",
   "execution_count": 11,
   "metadata": {},
   "outputs": [],
   "source": [
    "###YOUR FRIEND'S CODE###\n",
    "# def rcorr(x1,x2):\n",
    "#     #Compute expectation and variance for first variable\n",
    "#     x1bar=np.sum(x1/len(x1)\n",
    "#     xvar=np.sum((x1-x1bar)^2)\n",
    "#     #Compute expecation and variance for second variable\n",
    "#     x2bar=np.sum(x1)/len(x2)\n",
    "#     x2var=np.sum((x2-x2bar)^2)\n",
    "#     #Compute pearson r correlation coefficent\n",
    "#     r=np.sum((x1-x1bar)*(x2-x2bar))/np.sqrt(x1var)*np.sqrt(x2var)\n",
    "#     r=np.round(r,2)\n",
    "#     return r\n",
    "\n",
    "def rcorr(x1,x2):\n",
    "    #Compute expectation and variance for first variable\n",
    "    x1bar=np.sum(x1/len(x1))\n",
    "    xvar=np.sum((x1-x1bar)**2)\n",
    "    #Compute expecation and variance for second variable\n",
    "    x2bar=np.sum(x1)/len(x2)\n",
    "    x2var=np.sum((x2-x2bar)**2)\n",
    "    #Compute pearson r correlation coefficent\n",
    "    r=np.sum((x1-x1bar)*(x2-x2bar))/(np.sqrt(xvar)*np.sqrt(x2var))\n",
    "    r=np.round(r,2)\n",
    "    return r"
   ]
  },
  {
   "cell_type": "code",
   "execution_count": 12,
   "metadata": {},
   "outputs": [
    {
     "data": {
      "text/plain": [
       "0.35"
      ]
     },
     "execution_count": 12,
     "metadata": {},
     "output_type": "execute_result"
    }
   ],
   "source": [
    "rcorr(y1,y2)"
   ]
  },
  {
   "cell_type": "code",
   "execution_count": 13,
   "metadata": {},
   "outputs": [
    {
     "data": {
      "text/plain": [
       "PearsonRResult(statistic=0.3584114743896904, pvalue=0.0002507611141667507)"
      ]
     },
     "execution_count": 13,
     "metadata": {},
     "output_type": "execute_result"
    }
   ],
   "source": [
    "from scipy import stats\n",
    "stats.pearsonr(y1,y2)"
   ]
  },
  {
   "cell_type": "markdown",
   "metadata": {},
   "source": [
    "Errors: missing \")\" in line 4, using \"^\" instead of \"**\" in lines 5 and 8, undefined variable in line 10, missing \"()\" around denominator in line 10"
   ]
  },
  {
   "cell_type": "code",
   "execution_count": 14,
   "metadata": {},
   "outputs": [
    {
     "data": {
      "text/plain": [
       "0.3584114743896903"
      ]
     },
     "execution_count": 14,
     "metadata": {},
     "output_type": "execute_result"
    }
   ],
   "source": [
    "from scipy.stats import linregress\n",
    "result = linregress(y1, y2)\n",
    "result.rvalue"
   ]
  },
  {
   "cell_type": "markdown",
   "metadata": {},
   "source": [
    "---"
   ]
  },
  {
   "cell_type": "markdown",
   "metadata": {},
   "source": [
    "# Part 2: Working with Pandas"
   ]
  },
  {
   "cell_type": "markdown",
   "metadata": {},
   "source": [
    "## Getting the data and summarizing it\n",
    "The data we'll be using for this part of the homework is from the [Global Ocean Data Analysis Project (GLODAP)](https://www.glodap.info/), which is a massive, global synthesis of quality-controlled ocean biogeochemical observations. GLODAP contains data from thousands of cruises from the early 1970s to the present. Here we'll only work with data from the Arctic Ocean.\n",
    "\n",
    "Run the following commands to download the GLODAP Arctic Ocean data:\n",
    "```bash\n",
    "!curl -O https://www.ncei.noaa.gov/data/oceans/ncei/ocads/data/0283442/GLODAPv2.2023_Arctic_Ocean.csv \n",
    "```"
   ]
  },
  {
   "cell_type": "code",
   "execution_count": 15,
   "metadata": {},
   "outputs": [],
   "source": [
    "#!curl -O https://www.ncei.noaa.gov/share/Homework_data/HW2_data/oceans/ncei/ocads/data/0283442/GLODAPv2.2023_Arctic_Ocean.csv "
   ]
  },
  {
   "cell_type": "markdown",
   "metadata": {},
   "source": [
    "The dataset has far more variables than you'll be working with in this assigment, so to help you out, below I've given you the code to read in only a subset of the variables, and I've renamed the columns slightly. If you want to compare what I've done here to the unsubsetted dataset, feel free to read the entire thing in on your own with `pandas.read_csv()`. In my code below `pd` is what I called pandas when I imported it."
   ]
  },
  {
   "cell_type": "code",
   "execution_count": 16,
   "metadata": {},
   "outputs": [],
   "source": [
    "#List of variables \n",
    "names=['station','year','month','day','hour','minute','latitude','longitude','depth','theta','salinity',\n",
    "                      'salinityf','sigma0','oxygen','oxygenf','cfc11','cfc11f']\n",
    "#Read in only the variables above with `usecols`\n",
    "df=pd.read_csv('/share/Homework_data/HW2_data/GLODAPv2.2023_Arctic_Ocean.csv',sep=',',usecols=['G2'+i for i in names])\n",
    "#Reset the column names to be those in the list above and not the original names, \n",
    "#which all have 'G2' appended to the front\n",
    "df.columns=names"
   ]
  },
  {
   "cell_type": "markdown",
   "metadata": {},
   "source": [
    "Some dataset info that you will find helpful (or access the entirety of the [metadata](https://www.ncei.noaa.gov/data/oceans/ncei/ocads/metadata/0237935.html) if you would like):\n",
    "\n",
    "1. year, month, day, hour, minute = sampling date and time\n",
    "2. latitude/longitude = geographical coordinates of the sampling location\n",
    "3. depth (m) = the depth of the water sample in meters\n",
    "4. missing fill value = -9999.0 (the fill value used when data is missing)\n",
    "\n",
    "Here is a list of the remaining variables, their descriptions, and their units:\n",
    "\n",
    "| Variable | Description | Unit | \n",
    "| - | - | - |\n",
    "| theta | potential temperature | $^\\circ$C |\n",
    "| salinity | salinity on the practical salinity scale | none |\n",
    "| salinityf | salinity flag; 0 = interpolated, 2 = good data, 9 = missing data | none |\n",
    "| sigma0 | potential density referenced to the ocean surface | kg m$^{-3}$ |\n",
    "| oxygen | oxygen content | $\\mu$mol kg$^{-1}$ |\n",
    "| oxygenf | oxygen flag; 0 = interpolated, 2 = good data, 9 = missing data | none |\n",
    "| cfc-11 | chlorofluorcarbon-11 content | pmol kg$^{-1}$ |\n",
    "| cfc-11f | cfc-11 flag; 2 = good data, 9 = missing data | none |"
   ]
  },
  {
   "cell_type": "markdown",
   "metadata": {},
   "source": [
    "### Q2.1 Get some basic information about your dataframe"
   ]
  },
  {
   "cell_type": "markdown",
   "metadata": {},
   "source": [
    "#### Q2.1.1 Print the summary information for your dataframe \n",
    "1. How many samples are there for any given variable?\n",
    "2. How many different datatypes are there?"
   ]
  },
  {
   "cell_type": "code",
   "execution_count": 17,
   "metadata": {},
   "outputs": [
    {
     "data": {
      "text/plain": [
       "(161439, 17)"
      ]
     },
     "execution_count": 17,
     "metadata": {},
     "output_type": "execute_result"
    }
   ],
   "source": [
    "df.shape"
   ]
  },
  {
   "cell_type": "code",
   "execution_count": 18,
   "metadata": {},
   "outputs": [
    {
     "data": {
      "text/plain": [
       "station      float64\n",
       "year         float64\n",
       "month        float64\n",
       "day          float64\n",
       "hour         float64\n",
       "minute       float64\n",
       "latitude     float64\n",
       "longitude    float64\n",
       "depth        float64\n",
       "theta        float64\n",
       "salinity     float64\n",
       "salinityf    float64\n",
       "sigma0       float64\n",
       "oxygen       float64\n",
       "oxygenf      float64\n",
       "cfc11        float64\n",
       "cfc11f       float64\n",
       "dtype: object"
      ]
     },
     "execution_count": 18,
     "metadata": {},
     "output_type": "execute_result"
    }
   ],
   "source": [
    "df.dtypes"
   ]
  },
  {
   "cell_type": "markdown",
   "metadata": {},
   "source": [
    "There are 161439 samples in any given variable and there are 2 fifferent data types, float64 and object."
   ]
  },
  {
   "cell_type": "markdown",
   "metadata": {},
   "source": [
    "#### Q2.1.2 Print the summary statistics for your dataframe\n",
    "1. What is the range of latitude and longitude that the dataset covers?\n",
    "2. What is the mean potential temperature? Does this seem reasonable? What do you think is the cause?"
   ]
  },
  {
   "cell_type": "code",
   "execution_count": 19,
   "metadata": {},
   "outputs": [
    {
     "name": "stdout",
     "output_type": "stream",
     "text": [
      "90.0\n",
      "46.867\n"
     ]
    }
   ],
   "source": [
    "print(df['latitude'].max())\n",
    "print(df['latitude'].min())"
   ]
  },
  {
   "cell_type": "code",
   "execution_count": 20,
   "metadata": {},
   "outputs": [
    {
     "name": "stdout",
     "output_type": "stream",
     "text": [
      "215.725\n",
      "-179.89\n"
     ]
    }
   ],
   "source": [
    "print(df['longitude'].max())\n",
    "print(df['longitude'].min())"
   ]
  },
  {
   "cell_type": "code",
   "execution_count": 21,
   "metadata": {},
   "outputs": [
    {
     "data": {
      "text/plain": [
       "-203.8037356152489"
      ]
     },
     "execution_count": 21,
     "metadata": {},
     "output_type": "execute_result"
    }
   ],
   "source": [
    "df['theta'].mean()"
   ]
  },
  {
   "cell_type": "markdown",
   "metadata": {},
   "source": [
    "No, -203 does not seem reasonable. I believe this error is due to missing values being replaced by -9999."
   ]
  },
  {
   "cell_type": "markdown",
   "metadata": {},
   "source": [
    "### Q2.2 Replacing missing values\n",
    "Use [where()](https://pandas.pydata.org/docs/reference/api/pandas.DataFrame.where.html) to replace all of the missing values with NaNs. Rerun your summary statistics from Q2.1.2. What is the mean potential temperature now? For this question, please print _only_ the new mean value of potential temperature, and not the entire summary statistics table."
   ]
  },
  {
   "cell_type": "code",
   "execution_count": 22,
   "metadata": {},
   "outputs": [
    {
     "name": "stdout",
     "output_type": "stream",
     "text": [
      "0.7893567942140329\n"
     ]
    }
   ],
   "source": [
    "df_nan = df.where(df.theta > -9999)\n",
    "print(df_nan['theta'].mean())"
   ]
  },
  {
   "cell_type": "markdown",
   "metadata": {},
   "source": [
    "### Q2.3 A quick look at the data\n"
   ]
  },
  {
   "cell_type": "markdown",
   "metadata": {},
   "source": [
    "#### Q2.3.1 Extract only the data for station 49 during August 1996\n",
    "This is the data collected at one stop (a 'station') on one reasearch cruise. You can tell this because the lat/lon values don't change, nor does the date. "
   ]
  },
  {
   "cell_type": "code",
   "execution_count": 23,
   "metadata": {},
   "outputs": [
    {
     "data": {
      "text/html": [
       "<div>\n",
       "<style scoped>\n",
       "    .dataframe tbody tr th:only-of-type {\n",
       "        vertical-align: middle;\n",
       "    }\n",
       "\n",
       "    .dataframe tbody tr th {\n",
       "        vertical-align: top;\n",
       "    }\n",
       "\n",
       "    .dataframe thead th {\n",
       "        text-align: right;\n",
       "    }\n",
       "</style>\n",
       "<table border=\"1\" class=\"dataframe\">\n",
       "  <thead>\n",
       "    <tr style=\"text-align: right;\">\n",
       "      <th></th>\n",
       "      <th>station</th>\n",
       "      <th>year</th>\n",
       "      <th>month</th>\n",
       "      <th>day</th>\n",
       "      <th>hour</th>\n",
       "      <th>minute</th>\n",
       "      <th>latitude</th>\n",
       "      <th>longitude</th>\n",
       "      <th>depth</th>\n",
       "      <th>theta</th>\n",
       "      <th>salinity</th>\n",
       "      <th>salinityf</th>\n",
       "      <th>sigma0</th>\n",
       "      <th>oxygen</th>\n",
       "      <th>oxygenf</th>\n",
       "      <th>cfc11</th>\n",
       "      <th>cfc11f</th>\n",
       "    </tr>\n",
       "  </thead>\n",
       "  <tbody>\n",
       "    <tr>\n",
       "      <th>5010</th>\n",
       "      <td>49.0</td>\n",
       "      <td>1996.0</td>\n",
       "      <td>8.0</td>\n",
       "      <td>7.0</td>\n",
       "      <td>0.0</td>\n",
       "      <td>0.0</td>\n",
       "      <td>85.0</td>\n",
       "      <td>107.63</td>\n",
       "      <td>10.0</td>\n",
       "      <td>-1.691200</td>\n",
       "      <td>34.123</td>\n",
       "      <td>2.0</td>\n",
       "      <td>27.465</td>\n",
       "      <td>365.7</td>\n",
       "      <td>2.0</td>\n",
       "      <td>6.30730</td>\n",
       "      <td>2.0</td>\n",
       "    </tr>\n",
       "    <tr>\n",
       "      <th>5011</th>\n",
       "      <td>49.0</td>\n",
       "      <td>1996.0</td>\n",
       "      <td>8.0</td>\n",
       "      <td>7.0</td>\n",
       "      <td>0.0</td>\n",
       "      <td>0.0</td>\n",
       "      <td>85.0</td>\n",
       "      <td>107.63</td>\n",
       "      <td>21.0</td>\n",
       "      <td>-1.710400</td>\n",
       "      <td>34.150</td>\n",
       "      <td>2.0</td>\n",
       "      <td>27.488</td>\n",
       "      <td>365.2</td>\n",
       "      <td>2.0</td>\n",
       "      <td>6.28590</td>\n",
       "      <td>2.0</td>\n",
       "    </tr>\n",
       "    <tr>\n",
       "      <th>5012</th>\n",
       "      <td>49.0</td>\n",
       "      <td>1996.0</td>\n",
       "      <td>8.0</td>\n",
       "      <td>7.0</td>\n",
       "      <td>0.0</td>\n",
       "      <td>0.0</td>\n",
       "      <td>85.0</td>\n",
       "      <td>107.63</td>\n",
       "      <td>31.0</td>\n",
       "      <td>-1.738600</td>\n",
       "      <td>34.192</td>\n",
       "      <td>2.0</td>\n",
       "      <td>27.522</td>\n",
       "      <td>364.0</td>\n",
       "      <td>2.0</td>\n",
       "      <td>-9999.00000</td>\n",
       "      <td>9.0</td>\n",
       "    </tr>\n",
       "    <tr>\n",
       "      <th>5013</th>\n",
       "      <td>49.0</td>\n",
       "      <td>1996.0</td>\n",
       "      <td>8.0</td>\n",
       "      <td>7.0</td>\n",
       "      <td>0.0</td>\n",
       "      <td>0.0</td>\n",
       "      <td>85.0</td>\n",
       "      <td>107.63</td>\n",
       "      <td>40.0</td>\n",
       "      <td>-1.781800</td>\n",
       "      <td>34.238</td>\n",
       "      <td>2.0</td>\n",
       "      <td>27.561</td>\n",
       "      <td>363.2</td>\n",
       "      <td>2.0</td>\n",
       "      <td>6.06050</td>\n",
       "      <td>2.0</td>\n",
       "    </tr>\n",
       "    <tr>\n",
       "      <th>5014</th>\n",
       "      <td>49.0</td>\n",
       "      <td>1996.0</td>\n",
       "      <td>8.0</td>\n",
       "      <td>7.0</td>\n",
       "      <td>0.0</td>\n",
       "      <td>0.0</td>\n",
       "      <td>85.0</td>\n",
       "      <td>107.63</td>\n",
       "      <td>59.0</td>\n",
       "      <td>-1.814200</td>\n",
       "      <td>34.273</td>\n",
       "      <td>2.0</td>\n",
       "      <td>27.590</td>\n",
       "      <td>360.0</td>\n",
       "      <td>2.0</td>\n",
       "      <td>6.11900</td>\n",
       "      <td>2.0</td>\n",
       "    </tr>\n",
       "    <tr>\n",
       "      <th>5015</th>\n",
       "      <td>49.0</td>\n",
       "      <td>1996.0</td>\n",
       "      <td>8.0</td>\n",
       "      <td>7.0</td>\n",
       "      <td>0.0</td>\n",
       "      <td>0.0</td>\n",
       "      <td>85.0</td>\n",
       "      <td>107.63</td>\n",
       "      <td>79.0</td>\n",
       "      <td>-1.821600</td>\n",
       "      <td>34.281</td>\n",
       "      <td>2.0</td>\n",
       "      <td>27.597</td>\n",
       "      <td>359.3</td>\n",
       "      <td>2.0</td>\n",
       "      <td>6.31320</td>\n",
       "      <td>2.0</td>\n",
       "    </tr>\n",
       "    <tr>\n",
       "      <th>5016</th>\n",
       "      <td>49.0</td>\n",
       "      <td>1996.0</td>\n",
       "      <td>8.0</td>\n",
       "      <td>7.0</td>\n",
       "      <td>0.0</td>\n",
       "      <td>0.0</td>\n",
       "      <td>85.0</td>\n",
       "      <td>107.63</td>\n",
       "      <td>100.0</td>\n",
       "      <td>-1.847000</td>\n",
       "      <td>34.290</td>\n",
       "      <td>2.0</td>\n",
       "      <td>27.605</td>\n",
       "      <td>358.9</td>\n",
       "      <td>2.0</td>\n",
       "      <td>-9999.00000</td>\n",
       "      <td>9.0</td>\n",
       "    </tr>\n",
       "    <tr>\n",
       "      <th>5017</th>\n",
       "      <td>49.0</td>\n",
       "      <td>1996.0</td>\n",
       "      <td>8.0</td>\n",
       "      <td>7.0</td>\n",
       "      <td>0.0</td>\n",
       "      <td>0.0</td>\n",
       "      <td>85.0</td>\n",
       "      <td>107.63</td>\n",
       "      <td>148.0</td>\n",
       "      <td>-0.309030</td>\n",
       "      <td>34.442</td>\n",
       "      <td>2.0</td>\n",
       "      <td>27.671</td>\n",
       "      <td>310.0</td>\n",
       "      <td>2.0</td>\n",
       "      <td>4.48590</td>\n",
       "      <td>2.0</td>\n",
       "    </tr>\n",
       "    <tr>\n",
       "      <th>5018</th>\n",
       "      <td>49.0</td>\n",
       "      <td>1996.0</td>\n",
       "      <td>8.0</td>\n",
       "      <td>7.0</td>\n",
       "      <td>0.0</td>\n",
       "      <td>0.0</td>\n",
       "      <td>85.0</td>\n",
       "      <td>107.63</td>\n",
       "      <td>199.0</td>\n",
       "      <td>1.347200</td>\n",
       "      <td>34.800</td>\n",
       "      <td>2.0</td>\n",
       "      <td>27.861</td>\n",
       "      <td>298.9</td>\n",
       "      <td>2.0</td>\n",
       "      <td>4.16880</td>\n",
       "      <td>2.0</td>\n",
       "    </tr>\n",
       "    <tr>\n",
       "      <th>5019</th>\n",
       "      <td>49.0</td>\n",
       "      <td>1996.0</td>\n",
       "      <td>8.0</td>\n",
       "      <td>7.0</td>\n",
       "      <td>0.0</td>\n",
       "      <td>0.0</td>\n",
       "      <td>85.0</td>\n",
       "      <td>107.63</td>\n",
       "      <td>242.0</td>\n",
       "      <td>1.479700</td>\n",
       "      <td>34.875</td>\n",
       "      <td>2.0</td>\n",
       "      <td>27.911</td>\n",
       "      <td>301.0</td>\n",
       "      <td>2.0</td>\n",
       "      <td>4.12290</td>\n",
       "      <td>2.0</td>\n",
       "    </tr>\n",
       "    <tr>\n",
       "      <th>5020</th>\n",
       "      <td>49.0</td>\n",
       "      <td>1996.0</td>\n",
       "      <td>8.0</td>\n",
       "      <td>7.0</td>\n",
       "      <td>0.0</td>\n",
       "      <td>0.0</td>\n",
       "      <td>85.0</td>\n",
       "      <td>107.63</td>\n",
       "      <td>247.0</td>\n",
       "      <td>1.459500</td>\n",
       "      <td>34.873</td>\n",
       "      <td>2.0</td>\n",
       "      <td>27.911</td>\n",
       "      <td>300.4</td>\n",
       "      <td>2.0</td>\n",
       "      <td>4.01660</td>\n",
       "      <td>2.0</td>\n",
       "    </tr>\n",
       "    <tr>\n",
       "      <th>5021</th>\n",
       "      <td>49.0</td>\n",
       "      <td>1996.0</td>\n",
       "      <td>8.0</td>\n",
       "      <td>7.0</td>\n",
       "      <td>0.0</td>\n",
       "      <td>0.0</td>\n",
       "      <td>85.0</td>\n",
       "      <td>107.63</td>\n",
       "      <td>298.0</td>\n",
       "      <td>1.290200</td>\n",
       "      <td>34.884</td>\n",
       "      <td>2.0</td>\n",
       "      <td>27.932</td>\n",
       "      <td>301.8</td>\n",
       "      <td>2.0</td>\n",
       "      <td>4.55900</td>\n",
       "      <td>2.0</td>\n",
       "    </tr>\n",
       "    <tr>\n",
       "      <th>5022</th>\n",
       "      <td>49.0</td>\n",
       "      <td>1996.0</td>\n",
       "      <td>8.0</td>\n",
       "      <td>7.0</td>\n",
       "      <td>0.0</td>\n",
       "      <td>0.0</td>\n",
       "      <td>85.0</td>\n",
       "      <td>107.63</td>\n",
       "      <td>396.0</td>\n",
       "      <td>1.070600</td>\n",
       "      <td>34.891</td>\n",
       "      <td>2.0</td>\n",
       "      <td>27.953</td>\n",
       "      <td>301.5</td>\n",
       "      <td>2.0</td>\n",
       "      <td>-9999.00000</td>\n",
       "      <td>9.0</td>\n",
       "    </tr>\n",
       "    <tr>\n",
       "      <th>5023</th>\n",
       "      <td>49.0</td>\n",
       "      <td>1996.0</td>\n",
       "      <td>8.0</td>\n",
       "      <td>7.0</td>\n",
       "      <td>0.0</td>\n",
       "      <td>0.0</td>\n",
       "      <td>85.0</td>\n",
       "      <td>107.63</td>\n",
       "      <td>494.0</td>\n",
       "      <td>0.791530</td>\n",
       "      <td>34.898</td>\n",
       "      <td>2.0</td>\n",
       "      <td>27.977</td>\n",
       "      <td>301.8</td>\n",
       "      <td>2.0</td>\n",
       "      <td>2.96680</td>\n",
       "      <td>2.0</td>\n",
       "    </tr>\n",
       "    <tr>\n",
       "      <th>5024</th>\n",
       "      <td>49.0</td>\n",
       "      <td>1996.0</td>\n",
       "      <td>8.0</td>\n",
       "      <td>7.0</td>\n",
       "      <td>0.0</td>\n",
       "      <td>0.0</td>\n",
       "      <td>85.0</td>\n",
       "      <td>107.63</td>\n",
       "      <td>593.0</td>\n",
       "      <td>0.416160</td>\n",
       "      <td>34.891</td>\n",
       "      <td>2.0</td>\n",
       "      <td>27.995</td>\n",
       "      <td>303.9</td>\n",
       "      <td>2.0</td>\n",
       "      <td>-9999.00000</td>\n",
       "      <td>9.0</td>\n",
       "    </tr>\n",
       "    <tr>\n",
       "      <th>5025</th>\n",
       "      <td>49.0</td>\n",
       "      <td>1996.0</td>\n",
       "      <td>8.0</td>\n",
       "      <td>7.0</td>\n",
       "      <td>0.0</td>\n",
       "      <td>0.0</td>\n",
       "      <td>85.0</td>\n",
       "      <td>107.63</td>\n",
       "      <td>692.0</td>\n",
       "      <td>0.116740</td>\n",
       "      <td>34.886</td>\n",
       "      <td>2.0</td>\n",
       "      <td>28.008</td>\n",
       "      <td>303.9</td>\n",
       "      <td>2.0</td>\n",
       "      <td>3.54240</td>\n",
       "      <td>2.0</td>\n",
       "    </tr>\n",
       "    <tr>\n",
       "      <th>5026</th>\n",
       "      <td>49.0</td>\n",
       "      <td>1996.0</td>\n",
       "      <td>8.0</td>\n",
       "      <td>7.0</td>\n",
       "      <td>0.0</td>\n",
       "      <td>0.0</td>\n",
       "      <td>85.0</td>\n",
       "      <td>107.63</td>\n",
       "      <td>790.0</td>\n",
       "      <td>-0.099837</td>\n",
       "      <td>34.887</td>\n",
       "      <td>2.0</td>\n",
       "      <td>28.020</td>\n",
       "      <td>304.7</td>\n",
       "      <td>2.0</td>\n",
       "      <td>-9999.00000</td>\n",
       "      <td>9.0</td>\n",
       "    </tr>\n",
       "    <tr>\n",
       "      <th>5027</th>\n",
       "      <td>49.0</td>\n",
       "      <td>1996.0</td>\n",
       "      <td>8.0</td>\n",
       "      <td>7.0</td>\n",
       "      <td>0.0</td>\n",
       "      <td>0.0</td>\n",
       "      <td>85.0</td>\n",
       "      <td>107.63</td>\n",
       "      <td>988.0</td>\n",
       "      <td>-0.315450</td>\n",
       "      <td>34.897</td>\n",
       "      <td>2.0</td>\n",
       "      <td>28.039</td>\n",
       "      <td>303.6</td>\n",
       "      <td>2.0</td>\n",
       "      <td>2.41950</td>\n",
       "      <td>2.0</td>\n",
       "    </tr>\n",
       "    <tr>\n",
       "      <th>5028</th>\n",
       "      <td>49.0</td>\n",
       "      <td>1996.0</td>\n",
       "      <td>8.0</td>\n",
       "      <td>7.0</td>\n",
       "      <td>0.0</td>\n",
       "      <td>0.0</td>\n",
       "      <td>85.0</td>\n",
       "      <td>107.63</td>\n",
       "      <td>1184.0</td>\n",
       "      <td>-0.465660</td>\n",
       "      <td>34.910</td>\n",
       "      <td>2.0</td>\n",
       "      <td>28.057</td>\n",
       "      <td>303.2</td>\n",
       "      <td>2.0</td>\n",
       "      <td>-9999.00000</td>\n",
       "      <td>9.0</td>\n",
       "    </tr>\n",
       "    <tr>\n",
       "      <th>5029</th>\n",
       "      <td>49.0</td>\n",
       "      <td>1996.0</td>\n",
       "      <td>8.0</td>\n",
       "      <td>7.0</td>\n",
       "      <td>0.0</td>\n",
       "      <td>0.0</td>\n",
       "      <td>85.0</td>\n",
       "      <td>107.63</td>\n",
       "      <td>1380.0</td>\n",
       "      <td>-0.594410</td>\n",
       "      <td>34.914</td>\n",
       "      <td>2.0</td>\n",
       "      <td>28.066</td>\n",
       "      <td>302.3</td>\n",
       "      <td>2.0</td>\n",
       "      <td>1.13560</td>\n",
       "      <td>2.0</td>\n",
       "    </tr>\n",
       "    <tr>\n",
       "      <th>5030</th>\n",
       "      <td>49.0</td>\n",
       "      <td>1996.0</td>\n",
       "      <td>8.0</td>\n",
       "      <td>7.0</td>\n",
       "      <td>0.0</td>\n",
       "      <td>0.0</td>\n",
       "      <td>85.0</td>\n",
       "      <td>107.63</td>\n",
       "      <td>1577.0</td>\n",
       "      <td>-0.682040</td>\n",
       "      <td>34.920</td>\n",
       "      <td>2.0</td>\n",
       "      <td>28.075</td>\n",
       "      <td>301.0</td>\n",
       "      <td>2.0</td>\n",
       "      <td>-9999.00000</td>\n",
       "      <td>9.0</td>\n",
       "    </tr>\n",
       "    <tr>\n",
       "      <th>5031</th>\n",
       "      <td>49.0</td>\n",
       "      <td>1996.0</td>\n",
       "      <td>8.0</td>\n",
       "      <td>7.0</td>\n",
       "      <td>0.0</td>\n",
       "      <td>0.0</td>\n",
       "      <td>85.0</td>\n",
       "      <td>107.63</td>\n",
       "      <td>1774.0</td>\n",
       "      <td>-0.762270</td>\n",
       "      <td>34.920</td>\n",
       "      <td>2.0</td>\n",
       "      <td>28.079</td>\n",
       "      <td>300.7</td>\n",
       "      <td>2.0</td>\n",
       "      <td>0.40000</td>\n",
       "      <td>2.0</td>\n",
       "    </tr>\n",
       "    <tr>\n",
       "      <th>5032</th>\n",
       "      <td>49.0</td>\n",
       "      <td>1996.0</td>\n",
       "      <td>8.0</td>\n",
       "      <td>7.0</td>\n",
       "      <td>0.0</td>\n",
       "      <td>0.0</td>\n",
       "      <td>85.0</td>\n",
       "      <td>107.63</td>\n",
       "      <td>1969.0</td>\n",
       "      <td>-0.831040</td>\n",
       "      <td>34.921</td>\n",
       "      <td>2.0</td>\n",
       "      <td>28.083</td>\n",
       "      <td>300.8</td>\n",
       "      <td>2.0</td>\n",
       "      <td>-9999.00000</td>\n",
       "      <td>9.0</td>\n",
       "    </tr>\n",
       "    <tr>\n",
       "      <th>5033</th>\n",
       "      <td>49.0</td>\n",
       "      <td>1996.0</td>\n",
       "      <td>8.0</td>\n",
       "      <td>7.0</td>\n",
       "      <td>0.0</td>\n",
       "      <td>0.0</td>\n",
       "      <td>85.0</td>\n",
       "      <td>107.63</td>\n",
       "      <td>2164.0</td>\n",
       "      <td>-0.873770</td>\n",
       "      <td>34.924</td>\n",
       "      <td>2.0</td>\n",
       "      <td>28.087</td>\n",
       "      <td>301.0</td>\n",
       "      <td>2.0</td>\n",
       "      <td>0.34439</td>\n",
       "      <td>2.0</td>\n",
       "    </tr>\n",
       "    <tr>\n",
       "      <th>5034</th>\n",
       "      <td>49.0</td>\n",
       "      <td>1996.0</td>\n",
       "      <td>8.0</td>\n",
       "      <td>7.0</td>\n",
       "      <td>0.0</td>\n",
       "      <td>0.0</td>\n",
       "      <td>85.0</td>\n",
       "      <td>107.63</td>\n",
       "      <td>2361.0</td>\n",
       "      <td>-0.905440</td>\n",
       "      <td>34.926</td>\n",
       "      <td>2.0</td>\n",
       "      <td>28.090</td>\n",
       "      <td>301.1</td>\n",
       "      <td>2.0</td>\n",
       "      <td>-9999.00000</td>\n",
       "      <td>9.0</td>\n",
       "    </tr>\n",
       "    <tr>\n",
       "      <th>5035</th>\n",
       "      <td>49.0</td>\n",
       "      <td>1996.0</td>\n",
       "      <td>8.0</td>\n",
       "      <td>7.0</td>\n",
       "      <td>0.0</td>\n",
       "      <td>0.0</td>\n",
       "      <td>85.0</td>\n",
       "      <td>107.63</td>\n",
       "      <td>2557.0</td>\n",
       "      <td>-0.926930</td>\n",
       "      <td>34.928</td>\n",
       "      <td>2.0</td>\n",
       "      <td>28.092</td>\n",
       "      <td>300.2</td>\n",
       "      <td>2.0</td>\n",
       "      <td>0.32878</td>\n",
       "      <td>2.0</td>\n",
       "    </tr>\n",
       "    <tr>\n",
       "      <th>5036</th>\n",
       "      <td>49.0</td>\n",
       "      <td>1996.0</td>\n",
       "      <td>8.0</td>\n",
       "      <td>7.0</td>\n",
       "      <td>0.0</td>\n",
       "      <td>0.0</td>\n",
       "      <td>85.0</td>\n",
       "      <td>107.63</td>\n",
       "      <td>2753.0</td>\n",
       "      <td>-0.940160</td>\n",
       "      <td>34.930</td>\n",
       "      <td>2.0</td>\n",
       "      <td>28.094</td>\n",
       "      <td>300.8</td>\n",
       "      <td>2.0</td>\n",
       "      <td>-9999.00000</td>\n",
       "      <td>9.0</td>\n",
       "    </tr>\n",
       "    <tr>\n",
       "      <th>5037</th>\n",
       "      <td>49.0</td>\n",
       "      <td>1996.0</td>\n",
       "      <td>8.0</td>\n",
       "      <td>7.0</td>\n",
       "      <td>0.0</td>\n",
       "      <td>0.0</td>\n",
       "      <td>85.0</td>\n",
       "      <td>107.63</td>\n",
       "      <td>2948.0</td>\n",
       "      <td>-0.948170</td>\n",
       "      <td>34.933</td>\n",
       "      <td>2.0</td>\n",
       "      <td>28.097</td>\n",
       "      <td>299.9</td>\n",
       "      <td>2.0</td>\n",
       "      <td>0.20293</td>\n",
       "      <td>2.0</td>\n",
       "    </tr>\n",
       "    <tr>\n",
       "      <th>5038</th>\n",
       "      <td>49.0</td>\n",
       "      <td>1996.0</td>\n",
       "      <td>8.0</td>\n",
       "      <td>7.0</td>\n",
       "      <td>0.0</td>\n",
       "      <td>0.0</td>\n",
       "      <td>85.0</td>\n",
       "      <td>107.63</td>\n",
       "      <td>3143.0</td>\n",
       "      <td>-0.950960</td>\n",
       "      <td>34.936</td>\n",
       "      <td>2.0</td>\n",
       "      <td>28.100</td>\n",
       "      <td>298.9</td>\n",
       "      <td>2.0</td>\n",
       "      <td>-9999.00000</td>\n",
       "      <td>9.0</td>\n",
       "    </tr>\n",
       "    <tr>\n",
       "      <th>5039</th>\n",
       "      <td>49.0</td>\n",
       "      <td>1996.0</td>\n",
       "      <td>8.0</td>\n",
       "      <td>7.0</td>\n",
       "      <td>0.0</td>\n",
       "      <td>0.0</td>\n",
       "      <td>85.0</td>\n",
       "      <td>107.63</td>\n",
       "      <td>3337.0</td>\n",
       "      <td>-0.945550</td>\n",
       "      <td>34.939</td>\n",
       "      <td>2.0</td>\n",
       "      <td>28.102</td>\n",
       "      <td>298.6</td>\n",
       "      <td>2.0</td>\n",
       "      <td>-9999.00000</td>\n",
       "      <td>9.0</td>\n",
       "    </tr>\n",
       "    <tr>\n",
       "      <th>5040</th>\n",
       "      <td>49.0</td>\n",
       "      <td>1996.0</td>\n",
       "      <td>8.0</td>\n",
       "      <td>7.0</td>\n",
       "      <td>0.0</td>\n",
       "      <td>0.0</td>\n",
       "      <td>85.0</td>\n",
       "      <td>107.63</td>\n",
       "      <td>3531.0</td>\n",
       "      <td>-0.944760</td>\n",
       "      <td>34.940</td>\n",
       "      <td>2.0</td>\n",
       "      <td>28.103</td>\n",
       "      <td>298.3</td>\n",
       "      <td>2.0</td>\n",
       "      <td>0.19512</td>\n",
       "      <td>2.0</td>\n",
       "    </tr>\n",
       "    <tr>\n",
       "      <th>5041</th>\n",
       "      <td>49.0</td>\n",
       "      <td>1996.0</td>\n",
       "      <td>8.0</td>\n",
       "      <td>7.0</td>\n",
       "      <td>0.0</td>\n",
       "      <td>0.0</td>\n",
       "      <td>85.0</td>\n",
       "      <td>107.63</td>\n",
       "      <td>3759.0</td>\n",
       "      <td>-0.945850</td>\n",
       "      <td>34.941</td>\n",
       "      <td>2.0</td>\n",
       "      <td>28.104</td>\n",
       "      <td>298.4</td>\n",
       "      <td>2.0</td>\n",
       "      <td>0.21854</td>\n",
       "      <td>2.0</td>\n",
       "    </tr>\n",
       "    <tr>\n",
       "      <th>5042</th>\n",
       "      <td>49.0</td>\n",
       "      <td>1996.0</td>\n",
       "      <td>8.0</td>\n",
       "      <td>7.0</td>\n",
       "      <td>0.0</td>\n",
       "      <td>0.0</td>\n",
       "      <td>85.0</td>\n",
       "      <td>107.63</td>\n",
       "      <td>3809.0</td>\n",
       "      <td>-0.946760</td>\n",
       "      <td>34.940</td>\n",
       "      <td>2.0</td>\n",
       "      <td>28.103</td>\n",
       "      <td>298.9</td>\n",
       "      <td>2.0</td>\n",
       "      <td>0.15805</td>\n",
       "      <td>2.0</td>\n",
       "    </tr>\n",
       "    <tr>\n",
       "      <th>5043</th>\n",
       "      <td>49.0</td>\n",
       "      <td>1996.0</td>\n",
       "      <td>8.0</td>\n",
       "      <td>7.0</td>\n",
       "      <td>0.0</td>\n",
       "      <td>0.0</td>\n",
       "      <td>85.0</td>\n",
       "      <td>107.63</td>\n",
       "      <td>3858.0</td>\n",
       "      <td>-0.945760</td>\n",
       "      <td>34.940</td>\n",
       "      <td>2.0</td>\n",
       "      <td>28.103</td>\n",
       "      <td>298.5</td>\n",
       "      <td>2.0</td>\n",
       "      <td>0.13366</td>\n",
       "      <td>2.0</td>\n",
       "    </tr>\n",
       "  </tbody>\n",
       "</table>\n",
       "</div>"
      ],
      "text/plain": [
       "      station    year  month  day  hour  minute  latitude  longitude   depth  \\\n",
       "5010     49.0  1996.0    8.0  7.0   0.0     0.0      85.0     107.63    10.0   \n",
       "5011     49.0  1996.0    8.0  7.0   0.0     0.0      85.0     107.63    21.0   \n",
       "5012     49.0  1996.0    8.0  7.0   0.0     0.0      85.0     107.63    31.0   \n",
       "5013     49.0  1996.0    8.0  7.0   0.0     0.0      85.0     107.63    40.0   \n",
       "5014     49.0  1996.0    8.0  7.0   0.0     0.0      85.0     107.63    59.0   \n",
       "5015     49.0  1996.0    8.0  7.0   0.0     0.0      85.0     107.63    79.0   \n",
       "5016     49.0  1996.0    8.0  7.0   0.0     0.0      85.0     107.63   100.0   \n",
       "5017     49.0  1996.0    8.0  7.0   0.0     0.0      85.0     107.63   148.0   \n",
       "5018     49.0  1996.0    8.0  7.0   0.0     0.0      85.0     107.63   199.0   \n",
       "5019     49.0  1996.0    8.0  7.0   0.0     0.0      85.0     107.63   242.0   \n",
       "5020     49.0  1996.0    8.0  7.0   0.0     0.0      85.0     107.63   247.0   \n",
       "5021     49.0  1996.0    8.0  7.0   0.0     0.0      85.0     107.63   298.0   \n",
       "5022     49.0  1996.0    8.0  7.0   0.0     0.0      85.0     107.63   396.0   \n",
       "5023     49.0  1996.0    8.0  7.0   0.0     0.0      85.0     107.63   494.0   \n",
       "5024     49.0  1996.0    8.0  7.0   0.0     0.0      85.0     107.63   593.0   \n",
       "5025     49.0  1996.0    8.0  7.0   0.0     0.0      85.0     107.63   692.0   \n",
       "5026     49.0  1996.0    8.0  7.0   0.0     0.0      85.0     107.63   790.0   \n",
       "5027     49.0  1996.0    8.0  7.0   0.0     0.0      85.0     107.63   988.0   \n",
       "5028     49.0  1996.0    8.0  7.0   0.0     0.0      85.0     107.63  1184.0   \n",
       "5029     49.0  1996.0    8.0  7.0   0.0     0.0      85.0     107.63  1380.0   \n",
       "5030     49.0  1996.0    8.0  7.0   0.0     0.0      85.0     107.63  1577.0   \n",
       "5031     49.0  1996.0    8.0  7.0   0.0     0.0      85.0     107.63  1774.0   \n",
       "5032     49.0  1996.0    8.0  7.0   0.0     0.0      85.0     107.63  1969.0   \n",
       "5033     49.0  1996.0    8.0  7.0   0.0     0.0      85.0     107.63  2164.0   \n",
       "5034     49.0  1996.0    8.0  7.0   0.0     0.0      85.0     107.63  2361.0   \n",
       "5035     49.0  1996.0    8.0  7.0   0.0     0.0      85.0     107.63  2557.0   \n",
       "5036     49.0  1996.0    8.0  7.0   0.0     0.0      85.0     107.63  2753.0   \n",
       "5037     49.0  1996.0    8.0  7.0   0.0     0.0      85.0     107.63  2948.0   \n",
       "5038     49.0  1996.0    8.0  7.0   0.0     0.0      85.0     107.63  3143.0   \n",
       "5039     49.0  1996.0    8.0  7.0   0.0     0.0      85.0     107.63  3337.0   \n",
       "5040     49.0  1996.0    8.0  7.0   0.0     0.0      85.0     107.63  3531.0   \n",
       "5041     49.0  1996.0    8.0  7.0   0.0     0.0      85.0     107.63  3759.0   \n",
       "5042     49.0  1996.0    8.0  7.0   0.0     0.0      85.0     107.63  3809.0   \n",
       "5043     49.0  1996.0    8.0  7.0   0.0     0.0      85.0     107.63  3858.0   \n",
       "\n",
       "         theta  salinity  salinityf  sigma0  oxygen  oxygenf       cfc11  \\\n",
       "5010 -1.691200    34.123        2.0  27.465   365.7      2.0     6.30730   \n",
       "5011 -1.710400    34.150        2.0  27.488   365.2      2.0     6.28590   \n",
       "5012 -1.738600    34.192        2.0  27.522   364.0      2.0 -9999.00000   \n",
       "5013 -1.781800    34.238        2.0  27.561   363.2      2.0     6.06050   \n",
       "5014 -1.814200    34.273        2.0  27.590   360.0      2.0     6.11900   \n",
       "5015 -1.821600    34.281        2.0  27.597   359.3      2.0     6.31320   \n",
       "5016 -1.847000    34.290        2.0  27.605   358.9      2.0 -9999.00000   \n",
       "5017 -0.309030    34.442        2.0  27.671   310.0      2.0     4.48590   \n",
       "5018  1.347200    34.800        2.0  27.861   298.9      2.0     4.16880   \n",
       "5019  1.479700    34.875        2.0  27.911   301.0      2.0     4.12290   \n",
       "5020  1.459500    34.873        2.0  27.911   300.4      2.0     4.01660   \n",
       "5021  1.290200    34.884        2.0  27.932   301.8      2.0     4.55900   \n",
       "5022  1.070600    34.891        2.0  27.953   301.5      2.0 -9999.00000   \n",
       "5023  0.791530    34.898        2.0  27.977   301.8      2.0     2.96680   \n",
       "5024  0.416160    34.891        2.0  27.995   303.9      2.0 -9999.00000   \n",
       "5025  0.116740    34.886        2.0  28.008   303.9      2.0     3.54240   \n",
       "5026 -0.099837    34.887        2.0  28.020   304.7      2.0 -9999.00000   \n",
       "5027 -0.315450    34.897        2.0  28.039   303.6      2.0     2.41950   \n",
       "5028 -0.465660    34.910        2.0  28.057   303.2      2.0 -9999.00000   \n",
       "5029 -0.594410    34.914        2.0  28.066   302.3      2.0     1.13560   \n",
       "5030 -0.682040    34.920        2.0  28.075   301.0      2.0 -9999.00000   \n",
       "5031 -0.762270    34.920        2.0  28.079   300.7      2.0     0.40000   \n",
       "5032 -0.831040    34.921        2.0  28.083   300.8      2.0 -9999.00000   \n",
       "5033 -0.873770    34.924        2.0  28.087   301.0      2.0     0.34439   \n",
       "5034 -0.905440    34.926        2.0  28.090   301.1      2.0 -9999.00000   \n",
       "5035 -0.926930    34.928        2.0  28.092   300.2      2.0     0.32878   \n",
       "5036 -0.940160    34.930        2.0  28.094   300.8      2.0 -9999.00000   \n",
       "5037 -0.948170    34.933        2.0  28.097   299.9      2.0     0.20293   \n",
       "5038 -0.950960    34.936        2.0  28.100   298.9      2.0 -9999.00000   \n",
       "5039 -0.945550    34.939        2.0  28.102   298.6      2.0 -9999.00000   \n",
       "5040 -0.944760    34.940        2.0  28.103   298.3      2.0     0.19512   \n",
       "5041 -0.945850    34.941        2.0  28.104   298.4      2.0     0.21854   \n",
       "5042 -0.946760    34.940        2.0  28.103   298.9      2.0     0.15805   \n",
       "5043 -0.945760    34.940        2.0  28.103   298.5      2.0     0.13366   \n",
       "\n",
       "      cfc11f  \n",
       "5010     2.0  \n",
       "5011     2.0  \n",
       "5012     9.0  \n",
       "5013     2.0  \n",
       "5014     2.0  \n",
       "5015     2.0  \n",
       "5016     9.0  \n",
       "5017     2.0  \n",
       "5018     2.0  \n",
       "5019     2.0  \n",
       "5020     2.0  \n",
       "5021     2.0  \n",
       "5022     9.0  \n",
       "5023     2.0  \n",
       "5024     9.0  \n",
       "5025     2.0  \n",
       "5026     9.0  \n",
       "5027     2.0  \n",
       "5028     9.0  \n",
       "5029     2.0  \n",
       "5030     9.0  \n",
       "5031     2.0  \n",
       "5032     9.0  \n",
       "5033     2.0  \n",
       "5034     9.0  \n",
       "5035     2.0  \n",
       "5036     9.0  \n",
       "5037     2.0  \n",
       "5038     9.0  \n",
       "5039     9.0  \n",
       "5040     2.0  \n",
       "5041     2.0  \n",
       "5042     2.0  \n",
       "5043     2.0  "
      ]
     },
     "execution_count": 23,
     "metadata": {},
     "output_type": "execute_result"
    }
   ],
   "source": [
    "df_49_1996 = df.loc[(df['station'] == 49) & (df['year'] == 1996) & (df['month'] == 8)]\n",
    "df_49_1996"
   ]
  },
  {
   "cell_type": "markdown",
   "metadata": {},
   "source": [
    "#### Q2.3.2 For which variable(s) were data not collected at all depths at this station?"
   ]
  },
  {
   "cell_type": "markdown",
   "metadata": {},
   "source": [
    "cfc11 values were not recorded at every depth."
   ]
  },
  {
   "cell_type": "markdown",
   "metadata": {},
   "source": [
    "#### Q2.3.3 Over what depth range were water samples collected at this station?\n",
    "Use code to determine your answers"
   ]
  },
  {
   "cell_type": "code",
   "execution_count": 24,
   "metadata": {},
   "outputs": [
    {
     "name": "stdout",
     "output_type": "stream",
     "text": [
      "10.0\n",
      "3858.0\n"
     ]
    }
   ],
   "source": [
    "print(df_49_1996['depth'].min())\n",
    "print(df_49_1996['depth'].max())"
   ]
  },
  {
   "cell_type": "markdown",
   "metadata": {},
   "source": [
    "Water samples were collected between depths of 10 meters and 3858 meters"
   ]
  },
  {
   "cell_type": "markdown",
   "metadata": {},
   "source": [
    "---"
   ]
  },
  {
   "cell_type": "markdown",
   "metadata": {},
   "source": [
    "## Part 3: Working with the data"
   ]
  },
  {
   "cell_type": "markdown",
   "metadata": {},
   "source": [
    "### Q3.1 Sorting"
   ]
  },
  {
   "cell_type": "markdown",
   "metadata": {},
   "source": [
    "#### Q3.1.1 Make a very quick line plot of the years in the whole dataset\n",
    "Use pandas built-in plotting and don't bother making any adjustments to the output. What does the plot tell you about how the years are arranged in your dataframe?"
   ]
  },
  {
   "cell_type": "code",
   "execution_count": 25,
   "metadata": {},
   "outputs": [
    {
     "data": {
      "text/plain": [
       "[<matplotlib.lines.Line2D at 0x7f844d57a650>]"
      ]
     },
     "execution_count": 25,
     "metadata": {},
     "output_type": "execute_result"
    },
    {
     "data": {
      "image/png": "[encoded data removed]",
      "text/plain": [
       "<Figure size 640x480 with 1 Axes>"
      ]
     },
     "metadata": {},
     "output_type": "display_data"
    }
   ],
   "source": [
    "plt.plot(df['year'])"
   ]
  },
  {
   "cell_type": "markdown",
   "metadata": {},
   "source": [
    "This plot tells me that the entirety of the data is not in chronological order. It's likely in order based on stations."
   ]
  },
  {
   "cell_type": "markdown",
   "metadata": {},
   "source": [
    "#### Q3.1.2 Sort your dataframe so that the years are increasing\n",
    "Use your sorted dataframe for the rest of the assigment"
   ]
  },
  {
   "cell_type": "code",
   "execution_count": 26,
   "metadata": {},
   "outputs": [
    {
     "data": {
      "text/html": [
       "<div>\n",
       "<style scoped>\n",
       "    .dataframe tbody tr th:only-of-type {\n",
       "        vertical-align: middle;\n",
       "    }\n",
       "\n",
       "    .dataframe tbody tr th {\n",
       "        vertical-align: top;\n",
       "    }\n",
       "\n",
       "    .dataframe thead th {\n",
       "        text-align: right;\n",
       "    }\n",
       "</style>\n",
       "<table border=\"1\" class=\"dataframe\">\n",
       "  <thead>\n",
       "    <tr style=\"text-align: right;\">\n",
       "      <th></th>\n",
       "      <th>station</th>\n",
       "      <th>year</th>\n",
       "      <th>month</th>\n",
       "      <th>day</th>\n",
       "      <th>hour</th>\n",
       "      <th>minute</th>\n",
       "      <th>latitude</th>\n",
       "      <th>longitude</th>\n",
       "      <th>depth</th>\n",
       "      <th>theta</th>\n",
       "      <th>salinity</th>\n",
       "      <th>salinityf</th>\n",
       "      <th>sigma0</th>\n",
       "      <th>oxygen</th>\n",
       "      <th>oxygenf</th>\n",
       "      <th>cfc11</th>\n",
       "      <th>cfc11f</th>\n",
       "    </tr>\n",
       "  </thead>\n",
       "  <tbody>\n",
       "    <tr>\n",
       "      <th>44925</th>\n",
       "      <td>1001.0</td>\n",
       "      <td>1974.0</td>\n",
       "      <td>8.0</td>\n",
       "      <td>13.0</td>\n",
       "      <td>1.0</td>\n",
       "      <td>3.0</td>\n",
       "      <td>69.74000</td>\n",
       "      <td>-137.1900</td>\n",
       "      <td>1.0</td>\n",
       "      <td>-9999.000000</td>\n",
       "      <td>-9999.000000</td>\n",
       "      <td>9.0</td>\n",
       "      <td>-9999.000000</td>\n",
       "      <td>378.560000</td>\n",
       "      <td>2.0</td>\n",
       "      <td>-9999.0</td>\n",
       "      <td>9.0</td>\n",
       "    </tr>\n",
       "    <tr>\n",
       "      <th>44926</th>\n",
       "      <td>1001.0</td>\n",
       "      <td>1974.0</td>\n",
       "      <td>8.0</td>\n",
       "      <td>13.0</td>\n",
       "      <td>1.0</td>\n",
       "      <td>3.0</td>\n",
       "      <td>69.74000</td>\n",
       "      <td>-137.1900</td>\n",
       "      <td>3.0</td>\n",
       "      <td>-9999.000000</td>\n",
       "      <td>-9999.000000</td>\n",
       "      <td>9.0</td>\n",
       "      <td>-9999.000000</td>\n",
       "      <td>382.910000</td>\n",
       "      <td>2.0</td>\n",
       "      <td>-9999.0</td>\n",
       "      <td>9.0</td>\n",
       "    </tr>\n",
       "    <tr>\n",
       "      <th>44927</th>\n",
       "      <td>1001.0</td>\n",
       "      <td>1974.0</td>\n",
       "      <td>8.0</td>\n",
       "      <td>13.0</td>\n",
       "      <td>1.0</td>\n",
       "      <td>3.0</td>\n",
       "      <td>69.74000</td>\n",
       "      <td>-137.1900</td>\n",
       "      <td>5.0</td>\n",
       "      <td>-9999.000000</td>\n",
       "      <td>-9999.000000</td>\n",
       "      <td>9.0</td>\n",
       "      <td>-9999.000000</td>\n",
       "      <td>335.040000</td>\n",
       "      <td>2.0</td>\n",
       "      <td>-9999.0</td>\n",
       "      <td>9.0</td>\n",
       "    </tr>\n",
       "    <tr>\n",
       "      <th>44928</th>\n",
       "      <td>1001.0</td>\n",
       "      <td>1974.0</td>\n",
       "      <td>8.0</td>\n",
       "      <td>13.0</td>\n",
       "      <td>1.0</td>\n",
       "      <td>3.0</td>\n",
       "      <td>69.74000</td>\n",
       "      <td>-137.1900</td>\n",
       "      <td>7.0</td>\n",
       "      <td>-1.150100</td>\n",
       "      <td>28.050000</td>\n",
       "      <td>2.0</td>\n",
       "      <td>22.526000</td>\n",
       "      <td>369.850000</td>\n",
       "      <td>2.0</td>\n",
       "      <td>-9999.0</td>\n",
       "      <td>9.0</td>\n",
       "    </tr>\n",
       "    <tr>\n",
       "      <th>44929</th>\n",
       "      <td>1001.0</td>\n",
       "      <td>1974.0</td>\n",
       "      <td>8.0</td>\n",
       "      <td>13.0</td>\n",
       "      <td>1.0</td>\n",
       "      <td>3.0</td>\n",
       "      <td>69.74000</td>\n",
       "      <td>-137.1900</td>\n",
       "      <td>10.0</td>\n",
       "      <td>-1.350100</td>\n",
       "      <td>28.950000</td>\n",
       "      <td>2.0</td>\n",
       "      <td>23.258000</td>\n",
       "      <td>317.640000</td>\n",
       "      <td>2.0</td>\n",
       "      <td>-9999.0</td>\n",
       "      <td>9.0</td>\n",
       "    </tr>\n",
       "    <tr>\n",
       "      <th>...</th>\n",
       "      <td>...</td>\n",
       "      <td>...</td>\n",
       "      <td>...</td>\n",
       "      <td>...</td>\n",
       "      <td>...</td>\n",
       "      <td>...</td>\n",
       "      <td>...</td>\n",
       "      <td>...</td>\n",
       "      <td>...</td>\n",
       "      <td>...</td>\n",
       "      <td>...</td>\n",
       "      <td>...</td>\n",
       "      <td>...</td>\n",
       "      <td>...</td>\n",
       "      <td>...</td>\n",
       "      <td>...</td>\n",
       "      <td>...</td>\n",
       "    </tr>\n",
       "    <tr>\n",
       "      <th>159815</th>\n",
       "      <td>20.0</td>\n",
       "      <td>2021.0</td>\n",
       "      <td>8.0</td>\n",
       "      <td>14.0</td>\n",
       "      <td>13.0</td>\n",
       "      <td>11.0</td>\n",
       "      <td>89.61284</td>\n",
       "      <td>16.9144</td>\n",
       "      <td>4197.0</td>\n",
       "      <td>-0.925267</td>\n",
       "      <td>34.942308</td>\n",
       "      <td>2.0</td>\n",
       "      <td>28.103727</td>\n",
       "      <td>295.780000</td>\n",
       "      <td>2.0</td>\n",
       "      <td>-9999.0</td>\n",
       "      <td>9.0</td>\n",
       "    </tr>\n",
       "    <tr>\n",
       "      <th>159816</th>\n",
       "      <td>20.0</td>\n",
       "      <td>2021.0</td>\n",
       "      <td>8.0</td>\n",
       "      <td>14.0</td>\n",
       "      <td>13.0</td>\n",
       "      <td>8.0</td>\n",
       "      <td>89.61284</td>\n",
       "      <td>16.9144</td>\n",
       "      <td>4236.0</td>\n",
       "      <td>-0.925130</td>\n",
       "      <td>34.942375</td>\n",
       "      <td>2.0</td>\n",
       "      <td>28.103776</td>\n",
       "      <td>299.690000</td>\n",
       "      <td>2.0</td>\n",
       "      <td>-9999.0</td>\n",
       "      <td>9.0</td>\n",
       "    </tr>\n",
       "    <tr>\n",
       "      <th>159817</th>\n",
       "      <td>20.0</td>\n",
       "      <td>2021.0</td>\n",
       "      <td>8.0</td>\n",
       "      <td>14.0</td>\n",
       "      <td>18.0</td>\n",
       "      <td>7.0</td>\n",
       "      <td>89.61284</td>\n",
       "      <td>16.9144</td>\n",
       "      <td>4236.0</td>\n",
       "      <td>-0.925183</td>\n",
       "      <td>34.942483</td>\n",
       "      <td>2.0</td>\n",
       "      <td>28.103865</td>\n",
       "      <td>-9999.000000</td>\n",
       "      <td>9.0</td>\n",
       "      <td>-9999.0</td>\n",
       "      <td>9.0</td>\n",
       "    </tr>\n",
       "    <tr>\n",
       "      <th>159810</th>\n",
       "      <td>20.0</td>\n",
       "      <td>2021.0</td>\n",
       "      <td>8.0</td>\n",
       "      <td>14.0</td>\n",
       "      <td>18.0</td>\n",
       "      <td>29.0</td>\n",
       "      <td>89.61284</td>\n",
       "      <td>16.9144</td>\n",
       "      <td>3434.0</td>\n",
       "      <td>-0.921052</td>\n",
       "      <td>34.936816</td>\n",
       "      <td>2.0</td>\n",
       "      <td>28.099102</td>\n",
       "      <td>296.016853</td>\n",
       "      <td>2.0</td>\n",
       "      <td>-9999.0</td>\n",
       "      <td>9.0</td>\n",
       "    </tr>\n",
       "    <tr>\n",
       "      <th>161438</th>\n",
       "      <td>58.0</td>\n",
       "      <td>2021.0</td>\n",
       "      <td>9.0</td>\n",
       "      <td>11.0</td>\n",
       "      <td>13.0</td>\n",
       "      <td>27.0</td>\n",
       "      <td>82.45316</td>\n",
       "      <td>8.7277</td>\n",
       "      <td>1010.0</td>\n",
       "      <td>-0.700723</td>\n",
       "      <td>34.913142</td>\n",
       "      <td>2.0</td>\n",
       "      <td>28.070520</td>\n",
       "      <td>295.366493</td>\n",
       "      <td>2.0</td>\n",
       "      <td>-9999.0</td>\n",
       "      <td>9.0</td>\n",
       "    </tr>\n",
       "  </tbody>\n",
       "</table>\n",
       "<p>161439 rows × 17 columns</p>\n",
       "</div>"
      ],
      "text/plain": [
       "        station    year  month   day  hour  minute  latitude  longitude  \\\n",
       "44925    1001.0  1974.0    8.0  13.0   1.0     3.0  69.74000  -137.1900   \n",
       "44926    1001.0  1974.0    8.0  13.0   1.0     3.0  69.74000  -137.1900   \n",
       "44927    1001.0  1974.0    8.0  13.0   1.0     3.0  69.74000  -137.1900   \n",
       "44928    1001.0  1974.0    8.0  13.0   1.0     3.0  69.74000  -137.1900   \n",
       "44929    1001.0  1974.0    8.0  13.0   1.0     3.0  69.74000  -137.1900   \n",
       "...         ...     ...    ...   ...   ...     ...       ...        ...   \n",
       "159815     20.0  2021.0    8.0  14.0  13.0    11.0  89.61284    16.9144   \n",
       "159816     20.0  2021.0    8.0  14.0  13.0     8.0  89.61284    16.9144   \n",
       "159817     20.0  2021.0    8.0  14.0  18.0     7.0  89.61284    16.9144   \n",
       "159810     20.0  2021.0    8.0  14.0  18.0    29.0  89.61284    16.9144   \n",
       "161438     58.0  2021.0    9.0  11.0  13.0    27.0  82.45316     8.7277   \n",
       "\n",
       "         depth        theta     salinity  salinityf       sigma0       oxygen  \\\n",
       "44925      1.0 -9999.000000 -9999.000000        9.0 -9999.000000   378.560000   \n",
       "44926      3.0 -9999.000000 -9999.000000        9.0 -9999.000000   382.910000   \n",
       "44927      5.0 -9999.000000 -9999.000000        9.0 -9999.000000   335.040000   \n",
       "44928      7.0    -1.150100    28.050000        2.0    22.526000   369.850000   \n",
       "44929     10.0    -1.350100    28.950000        2.0    23.258000   317.640000   \n",
       "...        ...          ...          ...        ...          ...          ...   \n",
       "159815  4197.0    -0.925267    34.942308        2.0    28.103727   295.780000   \n",
       "159816  4236.0    -0.925130    34.942375        2.0    28.103776   299.690000   \n",
       "159817  4236.0    -0.925183    34.942483        2.0    28.103865 -9999.000000   \n",
       "159810  3434.0    -0.921052    34.936816        2.0    28.099102   296.016853   \n",
       "161438  1010.0    -0.700723    34.913142        2.0    28.070520   295.366493   \n",
       "\n",
       "        oxygenf   cfc11  cfc11f  \n",
       "44925       2.0 -9999.0     9.0  \n",
       "44926       2.0 -9999.0     9.0  \n",
       "44927       2.0 -9999.0     9.0  \n",
       "44928       2.0 -9999.0     9.0  \n",
       "44929       2.0 -9999.0     9.0  \n",
       "...         ...     ...     ...  \n",
       "159815      2.0 -9999.0     9.0  \n",
       "159816      2.0 -9999.0     9.0  \n",
       "159817      9.0 -9999.0     9.0  \n",
       "159810      2.0 -9999.0     9.0  \n",
       "161438      2.0 -9999.0     9.0  \n",
       "\n",
       "[161439 rows x 17 columns]"
      ]
     },
     "execution_count": 26,
     "metadata": {},
     "output_type": "execute_result"
    }
   ],
   "source": [
    "df_sort = df.sort_values(by = 'year')\n",
    "df_sort"
   ]
  },
  {
   "cell_type": "markdown",
   "metadata": {},
   "source": [
    "### Q3.2 Counting"
   ]
  },
  {
   "cell_type": "markdown",
   "metadata": {},
   "source": [
    "#### Q3.2.1 How many samples were taken above and below 500 m?\n",
    "Base your answer off of depth, not one of the other variables like salinity, etc, as some of those will have missing values. Go ahead and include samples at depths exactly at 500 m in the 'above 500 m' category."
   ]
  },
  {
   "cell_type": "code",
   "execution_count": 27,
   "metadata": {},
   "outputs": [
    {
     "name": "stdout",
     "output_type": "stream",
     "text": [
      "39879\n",
      "121560\n"
     ]
    }
   ],
   "source": [
    "d = df_sort['depth']\n",
    "print(df_sort['depth'][d >= 500].count())\n",
    "print(df_sort['depth'][d < 500].count())"
   ]
  },
  {
   "cell_type": "markdown",
   "metadata": {},
   "source": [
    "#### Q3.2.2 How many salinity, oxygen, and CFC-11 samples in the entire dataset were interpolated?\n",
    "Provide your answers as percentages of the total number of samples for each variable. *Exclude missing values when computing the total number of samples.*"
   ]
  },
  {
   "cell_type": "code",
   "execution_count": 28,
   "metadata": {},
   "outputs": [
    {
     "data": {
      "text/plain": [
       "2"
      ]
     },
     "execution_count": 28,
     "metadata": {},
     "output_type": "execute_result"
    }
   ],
   "source": [
    "(df['salinity'] == 0).sum().sum()"
   ]
  },
  {
   "cell_type": "code",
   "execution_count": 29,
   "metadata": {},
   "outputs": [
    {
     "data": {
      "text/plain": [
       "0"
      ]
     },
     "execution_count": 29,
     "metadata": {},
     "output_type": "execute_result"
    }
   ],
   "source": [
    "(df['oxygen'] == 0).sum().sum()"
   ]
  },
  {
   "cell_type": "code",
   "execution_count": 30,
   "metadata": {},
   "outputs": [
    {
     "data": {
      "text/plain": [
       "179"
      ]
     },
     "execution_count": 30,
     "metadata": {},
     "output_type": "execute_result"
    }
   ],
   "source": [
    "(df['cfc11'] == 0).sum().sum()"
   ]
  },
  {
   "cell_type": "markdown",
   "metadata": {},
   "source": [
    "#### Q3.2.3 Between 1980 and 1990, how many oxygen samples were taken north of 80˚N?\n",
    "Include samples at exactly 80˚N in your counts, but exclude any samples taken in the year 1990. Do not include missing values in your counts."
   ]
  },
  {
   "cell_type": "code",
   "execution_count": 31,
   "metadata": {},
   "outputs": [
    {
     "name": "stdout",
     "output_type": "stream",
     "text": [
      "1156\n"
     ]
    }
   ],
   "source": [
    "df_80N = df[(df['year'] < 1990) & (df['year'] > 1980) & (df['latitude'] >= 80)]\n",
    "df_oxy = df_80N.where(df_80N.oxygen > -9999)\n",
    "print(df_oxy['oxygen'].count())"
   ]
  },
  {
   "cell_type": "markdown",
   "metadata": {},
   "source": [
    "#### Q3.2.4 How many distinct locations in the Arctic were sampled?\n",
    "In this question, I want you to find the total number of _unique_ lat/lon _pairs_. \n",
    "><font color='green'><b>Hint:</b></font> Take a look at [drop_duplicates()](https://pandas.pydata.org/docs/reference/api/pandas.DataFrame.drop_duplicates.html)"
   ]
  },
  {
   "cell_type": "code",
   "execution_count": 32,
   "metadata": {},
   "outputs": [
    {
     "data": {
      "text/plain": [
       "9724"
      ]
     },
     "execution_count": 32,
     "metadata": {},
     "output_type": "execute_result"
    }
   ],
   "source": [
    "df_latlon = df.drop_duplicates(subset = ['latitude', 'longitude'])\n",
    "len(df_latlon)"
   ]
  },
  {
   "cell_type": "markdown",
   "metadata": {},
   "source": [
    "#### Q3.2.5 In what years were the largest and smallest number of samples taken?"
   ]
  },
  {
   "cell_type": "code",
   "execution_count": 33,
   "metadata": {},
   "outputs": [
    {
     "data": {
      "text/plain": [
       "0    2002.0\n",
       "Name: year, dtype: float64"
      ]
     },
     "execution_count": 33,
     "metadata": {},
     "output_type": "execute_result"
    }
   ],
   "source": [
    "df['year'].mode()"
   ]
  },
  {
   "cell_type": "code",
   "execution_count": 34,
   "metadata": {},
   "outputs": [
    {
     "data": {
      "text/plain": [
       "1974.0"
      ]
     },
     "execution_count": 34,
     "metadata": {},
     "output_type": "execute_result"
    }
   ],
   "source": [
    "s = df['year'].value_counts()\n",
    "s.index[-1]"
   ]
  },
  {
   "cell_type": "markdown",
   "metadata": {},
   "source": [
    "#### Q3.2.6 In how many years were data collected?\n",
    "How does this compare to the total number of years that the dataset spans?"
   ]
  },
  {
   "cell_type": "code",
   "execution_count": 35,
   "metadata": {},
   "outputs": [
    {
     "data": {
      "text/plain": [
       "41"
      ]
     },
     "execution_count": 35,
     "metadata": {},
     "output_type": "execute_result"
    }
   ],
   "source": [
    "len(s)"
   ]
  },
  {
   "cell_type": "markdown",
   "metadata": {},
   "source": [
    "### Q3.3 Make a histogram of the number of samples in each month \n",
    "For this problem, you'll need to create a new dataframe using `drop_duplicates()`.  Because the number of sample depths varies per station, if we make a histogram based solely on the 'months' column, we'll skew our results based on the number of depths sampled at a given station. To avoid counting mulitple samples across depth at the same station, what we truly want is the unique _date_ and _time_ that sampling occurred at a particular station, so you should make your histogram based on your new dataframe that ignores duplicate entries for the date and time.\n",
    "\n",
    "No need to bother making your plot look pretty for this question--as long as you can answer the questions below then it's fine (but do make sure that your plot has one bin per month)!\n",
    "\n",
    "1. In what month were the largest number of samples taken?\n",
    "2. In what month were the smallest number of samples taken?\n",
    "3. Pretend like the data you plotted on your histogram is the data you have for one year. If you took the annual mean of your data, how might you expect your results to be biased (i.e. toward what season would your annual mean skew)?"
   ]
  },
  {
   "cell_type": "code",
   "execution_count": 36,
   "metadata": {},
   "outputs": [
    {
     "data": {
      "text/plain": [
       "(0.0, 12.0)"
      ]
     },
     "execution_count": 36,
     "metadata": {},
     "output_type": "execute_result"
    },
    {
     "data": {
      "image/png": "[encoded data removed]",
      "text/plain": [
       "<Figure size 640x480 with 1 Axes>"
      ]
     },
     "metadata": {},
     "output_type": "display_data"
    }
   ],
   "source": [
    "# new_index=pd.to_datetime(df[['year', 'month', 'day']]) \n",
    "# df_new=df.set_index(new_index)\n",
    "df_latlon['month'].hist(bins = 12)\n",
    "plt.xlim(0,12)"
   ]
  },
  {
   "cell_type": "markdown",
   "metadata": {},
   "source": [
    "1. The most samples were taken in September\n",
    "2. The fewest samples were taken in January\n",
    "3. Most of the samples are collected in the fall months so the data would have a skew to it in that way"
   ]
  },
  {
   "cell_type": "markdown",
   "metadata": {},
   "source": [
    "### Q3.4 Visualizing data with a box plot"
   ]
  },
  {
   "cell_type": "markdown",
   "metadata": {},
   "source": [
    "#### Q3.4.1 Make a box plot of the spread in number of samples across all months for each year\n",
    "Use your new dataframe from Q3.3. Your [box plot](https://pandas.pydata.org/pandas-docs/stable/reference/api/pandas.DataFrame.boxplot.html) should have one box showing the spread in monthly sample numbers for each year. Your x-axis should be the years of the dataset and your y-axis should be the months (these should be numerical). To help get you started, I've set up a bit of the code so that your plot output won't be scrunched together.  All you need to do is add a line of code that makes the box plot and then do the following:\n",
    "\n",
    "1. Set the ax keyword argument in your boxplot function to be the name of the axis I've created below\n",
    "2. Turn off the grid\n",
    "3. Set the x-axis label rotation to be 45˚ \n",
    "4. Add a y-axis label\n",
    "5. Add a title (but first get rid of the default suptitle by setting the suptitle of the plot to an empty string)"
   ]
  },
  {
   "cell_type": "code",
   "execution_count": 37,
   "metadata": {},
   "outputs": [
    {
     "data": {
      "text/plain": [
       "Text(0.5, 0.98, '')"
      ]
     },
     "execution_count": 37,
     "metadata": {},
     "output_type": "execute_result"
    },
    {
     "data": {
      "text/plain": [
       "<Figure size 1500x400 with 0 Axes>"
      ]
     },
     "metadata": {},
     "output_type": "display_data"
    },
    {
     "data": {
      "image/png": "[encoded data removed]",
      "text/plain": [
       "<Figure size 640x480 with 1 Axes>"
      ]
     },
     "metadata": {},
     "output_type": "display_data"
    }
   ],
   "source": [
    "df_latlon[['year', 'month']]\n",
    "\n",
    "plt.figure(figsize=(15, 4))\n",
    "df_latlon.boxplot(column='month', by=['year'], showfliers=False, grid = False)\n",
    "plt.xticks(rotation=45)\n",
    "plt.ylabel('Month')\n",
    "plt.xlabel('Year')\n",
    "plt.title('Samples Taken Each Month by Year')\n",
    "plt.suptitle('')"
   ]
  },
  {
   "cell_type": "markdown",
   "metadata": {},
   "source": [
    "I know the years look atrocious but I just need to finish this right now."
   ]
  },
  {
   "cell_type": "markdown",
   "metadata": {},
   "source": [
    "#### Q3.4.2 Do all years have the same median sampling month?\n",
    "Do the annual data generally agree with the histogram in Q3.3?"
   ]
  },
  {
   "cell_type": "markdown",
   "metadata": {},
   "source": [
    "Yes, the data generally agrres with Q3.3 with August and September having the most medians."
   ]
  },
  {
   "cell_type": "markdown",
   "metadata": {},
   "source": [
    "### Q3.5 Make a set of histograms based on density"
   ]
  },
  {
   "cell_type": "markdown",
   "metadata": {},
   "source": [
    "#### Q3.5.1\n",
    "In oceanography, it is often instructive to look at data on density surfaces rather than by depth. In this question, you'll make a 1x3 set of subplots consisting of histograms for the variables theta, oxygen, and cfc-11, binned by potential density (sigma0). In other words, you'll be making summary plots showing the total number of samples of these variables that fall within specific density ranges. \n",
    "\n",
    "You'll need to do the following:\n",
    "\n",
    "1. Group your theta, oxygen, and cfc-11 data by potential density (sigma0). Use the following array as your density bin edges: \n",
    "`bin_edges=np.arange(19.9,28.2,0.2)`\n",
    "><b><font color='green'>Hint</font></b>: Take a look at [cut()](https://pandas.pydata.org/docs/reference/api/pandas.cut.html) \n",
    "2. Make a set of counts for each variable based on the density bins\n",
    "3. Use [matplotlib bar graphs](https://matplotlib.org/stable/api/_as_gen/matplotlib.pyplot.bar.html) to make the 1x3 set of plots. Be sure to include axes labels, titles, etc. Change the color and edgecolor of the bars and set the bar width to be the width of a single density bin.\n",
    "><b><font color='red'>Note:</font></b> To make these plots properly with a bar graph, you will need to compute the bin centers from the bin edges and plot your counts vs your bin centers"
   ]
  },
  {
   "cell_type": "code",
   "execution_count": 47,
   "metadata": {},
   "outputs": [
    {
     "data": {
      "text/plain": [
       "Text(0.5, 1.0, 'Density of CFC-11 Samples')"
      ]
     },
     "execution_count": 47,
     "metadata": {},
     "output_type": "execute_result"
    },
    {
     "data": {
      "image/png": "[encoded data removed]",
      "text/plain": [
       "<Figure size 1200x1200 with 3 Axes>"
      ]
     },
     "metadata": {},
     "output_type": "display_data"
    }
   ],
   "source": [
    "bin_edges=np.arange(19.9,28.2,0.2)\n",
    "sig_ind = pd.cut(df['sigma0'], bins = bin_edges, labels = False)\n",
    "\n",
    "bin_centers = []\n",
    "for i in range(len(bin_edges)-1):\n",
    "    bin_centers.append(round(((bin_edges[i] + bin_edges[i+1]) /2), 1))\n",
    "\n",
    "theta_c = []\n",
    "oxygen_c = []\n",
    "cfc11_c = []\n",
    "\n",
    "for i in range(len(bin_centers)):\n",
    "    theta_c.append(df['theta'].where(i == sig_ind).count())\n",
    "    oxygen_c.append(df['oxygen'].where(i == sig_ind).count())\n",
    "    cfc11_c.append(df['cfc11'].where(i == sig_ind).count())\n",
    "\n",
    "fig,axs = plt.subplots(3, figsize = (12, 12))\n",
    "\n",
    "axs[0].bar(bin_centers, theta_c, width = 0.2, color = 'red', edgecolor = 'blue')\n",
    "axs[0].set_title('Density of Depth Samples')\n",
    "\n",
    "axs[1].bar(bin_centers, oxygen_c, width = 0.2, color = 'green', edgecolor = 'blue')\n",
    "axs[1].set_title('Density of Oxygen Samples')\n",
    "\n",
    "axs[2].bar(bin_centers, cfc11_c, width = 0.2, color = 'orange', edgecolor = 'blue')\n",
    "axs[2].set_title('Density of CFC-11 Samples')\n",
    "\n",
    "# fig, axs = plt.subplots(1, 3)\n",
    "# axs[0].bar('theta', df['theta'])\n",
    "# axs[0].set_title('Theta')\n",
    "\n",
    "# axs[1].bar('oxygen', df['oxygen'])\n",
    "# axs[1].set_title('Oxygen')\n",
    "\n",
    "# axs[2].bar('CFC-11',df['cfc-11'])\n",
    "# axs[2].set_title('CFC-11')"
   ]
  },
  {
   "cell_type": "markdown",
   "metadata": {},
   "source": [
    "#### Q3.5.2 What density bin contains the largest number of samples?"
   ]
  },
  {
   "cell_type": "markdown",
   "metadata": {},
   "source": [
    "The density bin of 28 contains the most samples."
   ]
  },
  {
   "cell_type": "markdown",
   "metadata": {},
   "source": [
    "#### Q3.5.3 Understanding plt.hist() vs plt.bar()\n",
    "Look up the documentation for matplotlib's `hist()` function. Given the inputs of this function, why do you suppose we couldn't just feed our output from Q3.5.1 into it in order to make the histograms?"
   ]
  },
  {
   "cell_type": "markdown",
   "metadata": {},
   "source": [
    "We couldn't use hist() because the data had already been binned prior to plotting."
   ]
  },
  {
   "cell_type": "code",
   "execution_count": null,
   "metadata": {},
   "outputs": [],
   "source": []
  }
 ],
 "metadata": {
  "kernelspec": {
   "display_name": "Python [conda env:uw-fall-2024]",
   "language": "python",
   "name": "conda-env-uw-fall-2024-py"
  },
  "language_info": {
   "codemirror_mode": {
    "name": "ipython",
    "version": 3
   },
   "file_extension": ".py",
   "mimetype": "text/x-python",
   "name": "python",
   "nbconvert_exporter": "python",
   "pygments_lexer": "ipython3",
   "version": "3.11.10"
  }
 },
 "nbformat": 4,
 "nbformat_minor": 4
}
